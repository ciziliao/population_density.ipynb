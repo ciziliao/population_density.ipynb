{
 "cells": [
  {
   "cell_type": "code",
   "execution_count": 1,
   "id": "015164fc-dcf3-4633-a5d3-1d63622a8e60",
   "metadata": {
    "tags": []
   },
   "outputs": [],
   "source": [
    "import pandas as pd\n",
    "import geopandas as gpd\n",
    "import numpy as np \n",
    "import folium"
   ]
  },
  {
   "cell_type": "code",
   "execution_count": 2,
   "id": "ea0297b5-3f18-4096-bcca-c80058740bd0",
   "metadata": {
    "tags": []
   },
   "outputs": [],
   "source": [
    "df = pd.read_csv(\"abc.csv\")"
   ]
  },
  {
   "cell_type": "code",
   "execution_count": 3,
   "id": "b1be59ef-bc02-4ccb-adeb-c40756277fdf",
   "metadata": {
    "tags": []
   },
   "outputs": [],
   "source": [
    "world = gpd.read_file('paises/paises.shp')"
   ]
  },
  {
   "cell_type": "code",
   "execution_count": null,
   "id": "721cc364-4bc9-4c34-9046-302951bed633",
   "metadata": {
    "tags": []
   },
   "outputs": [],
   "source": [
    "merged = world.set_index('iso_a2').join(df.set_index('iso2'))\n"
   ]
  },
  {
   "cell_type": "code",
   "execution_count": null,
   "id": "995ed958-990c-4ada-8af3-8f07167ec9d2",
   "metadata": {
    "tags": []
   },
   "outputs": [],
   "source": [
    "merged = merged.to_crs(epsg=3395)\n",
    "merged['density'] = merged['population'] / merged['geometry'].area"
   ]
  },
  {
   "cell_type": "code",
   "execution_count": null,
   "id": "c19960da-5349-44cd-bae3-736fafb8ba11",
   "metadata": {
    "tags": []
   },
   "outputs": [],
   "source": [
    "m = folium.Map(location=[0, 0], zoom_start=2)\n",
    "\n",
    "folium.Choropleth(\n",
    "    geo_data=merged,\n",
    "    name='choropleth',\n",
    "    data=merged,\n",
    "    columns=['iso3', 'density'],\n",
    "    key_on='feature.properties.iso3',\n",
    "    fill_color='YlOrRd',\n",
    "    fill_opacity=0.7,\n",
    "    line_opacity=0.2,\n",
    "    legend_name='Densidade Populacional'\n",
    ").add_to(m)"
   ]
  },
  {
   "cell_type": "code",
   "execution_count": null,
   "id": "84ef7840-f57c-4930-a6c9-b226130f5a49",
   "metadata": {
    "tags": []
   },
   "outputs": [],
   "source": [
    "m.save('mapa_de_densidade_populacional.html')"
   ]
  },
  {
   "cell_type": "code",
   "execution_count": null,
   "id": "c23670c8-10ea-4bb7-961e-f92a340e0f97",
   "metadata": {},
   "outputs": [],
   "source": []
  }
 ],
 "metadata": {
  "kernelspec": {
   "display_name": "Python 3 (ipykernel)",
   "language": "python",
   "name": "python3"
  },
  "language_info": {
   "codemirror_mode": {
    "name": "ipython",
    "version": 3
   },
   "file_extension": ".py",
   "mimetype": "text/x-python",
   "name": "python",
   "nbconvert_exporter": "python",
   "pygments_lexer": "ipython3",
   "version": "3.11.4"
  }
 },
 "nbformat": 4,
 "nbformat_minor": 5
}
